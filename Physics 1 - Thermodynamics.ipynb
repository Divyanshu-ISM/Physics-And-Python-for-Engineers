{
 "cells": [
  {
   "cell_type": "markdown",
   "id": "a8e29504",
   "metadata": {},
   "source": [
    "# Laws of Thermodynamics\n",
    "\n",
    "#### The laws of thermodynamics are a set of fundamental principles that govern the behavior of energy and matter in physical systems. There are four laws of thermodynamics, but the first three are the most important and commonly used:\n",
    "\n",
    "1. The first law of thermodynamics: The first law of thermodynamics, also known as the law of conservation of energy, states that energy cannot be created or destroyed but can only be transformed from one form to another. In other words, the total amount of energy in a closed system remains constant.\n",
    "\n",
    "2. The second law of thermodynamics: The second law of thermodynamics states that in any thermodynamic process, the total entropy of a closed system always increases or remains constant. Entropy is a measure of the disorder or randomness in a system. This law also states that it is impossible to convert heat completely into work without some loss of usable energy, and that natural processes tend to move towards a state of maximum entropy.\n",
    "\n",
    "3. The third law of thermodynamics: The third law of thermodynamics states that it is impossible to reach absolute zero temperature (the temperature at which all matter would have zero entropy) through any finite number of steps. This law establishes a limit on the amount of heat that can be extracted from a system, and it is used to calculate the thermodynamic properties of materials at low temperatures.The third law of thermodynamics states that the entropy of a perfect crystal at absolute zero temperature is zero. Here's an example of how you can use Python to calculate the entropy at absolute zero for a crystal.\n",
    "\n",
    "0. The zeroth law of thermodynamics: The zeroth law of thermodynamics states that if two systems are in thermal equilibrium with a third system, then they are in thermal equilibrium with each other. This law is important for defining temperature and is used to establish the concept of thermal equilibrium and the measurement of temperature."
   ]
  },
  {
   "cell_type": "markdown",
   "id": "4106bc87",
   "metadata": {},
   "source": [
    "# Examples"
   ]
  },
  {
   "cell_type": "markdown",
   "id": "bce19261",
   "metadata": {},
   "source": [
    "#### 1. First Law\n",
    "\n",
    "$\\triangle U = Q - W $\n",
    "\n",
    "The change in internal energy is equal to the heat supplied to the system minus the work done by the system."
   ]
  },
  {
   "cell_type": "code",
   "execution_count": 1,
   "id": "dd0f6dc1",
   "metadata": {},
   "outputs": [
    {
     "name": "stdout",
     "output_type": "stream",
     "text": [
      "The change in internal energy of the system is: 50 Joules\n"
     ]
    }
   ],
   "source": [
    "Q = 100 # heat supplied to a system in Joules\n",
    "W = 50 # work done by the system in Joules\n",
    "U = Q - W # change in internal energy of the system\n",
    "\n",
    "print(\"The change in internal energy of the system is:\", U, \"Joules\")"
   ]
  },
  {
   "cell_type": "markdown",
   "id": "4a882899",
   "metadata": {},
   "source": [
    "#### 1. Second Law\n",
    "\n",
    "```# change in entropy of the hot reservoir```\n",
    "- $ S_h = Q_h/T_h $  \n",
    "```# change in entropy of the cold reservoir```\n",
    "- $ S_c = Q_c/T_c $\n",
    "```# change in entropy of the system```\n",
    "- $ S_{sys} = S_h + S_c $"
   ]
  },
  {
   "cell_type": "code",
   "execution_count": 2,
   "id": "a828296b",
   "metadata": {},
   "outputs": [
    {
     "name": "stdout",
     "output_type": "stream",
     "text": [
      "The work done by the system is: 250.0 Joules\n",
      "The change in entropy of the system is: 5.0 Joules/Kelvin\n"
     ]
    }
   ],
   "source": [
    "import math\n",
    "\n",
    "T_h = 400 # temperature of a hot reservoir in Kelvin\n",
    "T_c = 300 # temperature of a cold reservoir in Kelvin\n",
    "\n",
    "Q_h = 1000 # heat absorbed by the hot reservoir in Joules\n",
    "\n",
    "Q_c = Q_h*(T_c/T_h) # heat released by the cold reservoir in Joules\n",
    "\n",
    "W = Q_h - Q_c # work done by the system in Joules\n",
    "\n",
    "S_h = Q_h/T_h # change in entropy of the hot reservoir\n",
    "S_c = Q_c/T_c # change in entropy of the cold reservoir\n",
    "S_sys = S_h + S_c # change in entropy of the system\n",
    "\n",
    "print(\"The work done by the system is:\", W, \"Joules\")\n",
    "print(\"The change in entropy of the system is:\", S_sys, \"Joules/Kelvin\")"
   ]
  },
  {
   "cell_type": "markdown",
   "id": "57ace9a1",
   "metadata": {},
   "source": [
    "> This code calculates the work done by a system and the change in entropy of the system using the second law of thermodynamics. The code assumes a hot reservoir at a higher temperature and a cold reservoir at a lower temperature, and calculates the amount of heat absorbed and released by each reservoir."
   ]
  },
  {
   "cell_type": "markdown",
   "id": "677e8ffc",
   "metadata": {},
   "source": [
    "### 3. Third Law"
   ]
  },
  {
   "cell_type": "code",
   "execution_count": 4,
   "id": "cf597ed8",
   "metadata": {},
   "outputs": [
    {
     "name": "stdout",
     "output_type": "stream",
     "text": [
      "The entropy at absolute zero is: 0.0 Joules/Kelvin\n"
     ]
    }
   ],
   "source": [
    "import math\n",
    "\n",
    "T = 10 # temperature in Kelvin\n",
    "\n",
    "S = math.log(1) # entropy at absolute zero\n",
    "\n",
    "print(\"The entropy at absolute zero is:\", S, \"Joules/Kelvin\")\n"
   ]
  },
  {
   "cell_type": "code",
   "execution_count": 5,
   "id": "23bfc683",
   "metadata": {},
   "outputs": [
    {
     "data": {
      "image/png": "[encoded data removed]",
      "text/plain": [
       "<Figure size 640x480 with 1 Axes>"
      ]
     },
     "metadata": {},
     "output_type": "display_data"
    }
   ],
   "source": [
    "import numpy as np\n",
    "import matplotlib.pyplot as plt\n",
    "\n",
    "# Define a range of temperatures to calculate entropy\n",
    "T_range = np.linspace(1e-10, 5, 1000)  # in Kelvin\n",
    "\n",
    "# Define the entropy as a function of temperature\n",
    "def entropy(T):\n",
    "    if T == 0:\n",
    "        return 0  # Entropy at absolute zero is zero\n",
    "    else:\n",
    "        return np.log(T)\n",
    "\n",
    "# Calculate entropy at each temperature in the range\n",
    "S = [entropy(T) for T in T_range]\n",
    "\n",
    "# Plot the entropy vs temperature\n",
    "plt.plot(T_range, S)\n",
    "plt.xlabel('Temperature (K)')\n",
    "plt.ylabel('Entropy (J/K)')\n",
    "plt.title('Entropy vs Temperature for a Perfect Crystal')\n",
    "plt.show()"
   ]
  },
  {
   "cell_type": "code",
   "execution_count": null,
   "id": "6e08a987",
   "metadata": {},
   "outputs": [],
   "source": []
  }
 ],
 "metadata": {
  "kernelspec": {
   "display_name": "Python 3 (ipykernel)",
   "language": "python",
   "name": "python3"
  },
  "language_info": {
   "codemirror_mode": {
    "name": "ipython",
    "version": 3
   },
   "file_extension": ".py",
   "mimetype": "text/x-python",
   "name": "python",
   "nbconvert_exporter": "python",
   "pygments_lexer": "ipython3",
   "version": "3.9.16"
  }
 },
 "nbformat": 4,
 "nbformat_minor": 5
}
